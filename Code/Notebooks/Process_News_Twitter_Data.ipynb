{
  "cells": [
    {
      "cell_type": "code",
      "execution_count": 45,
      "metadata": {
        "tags": [
          "parameters"
        ]
      },
      "outputs": [
        {
          "data": {
            "application/vnd.livy.statement-meta+json": {
              "execution_finish_time": "2022-03-30T10:47:38.3833275Z",
              "execution_start_time": "2022-03-30T10:47:38.2422865Z",
              "livy_statement_state": "available",
              "queued_time": "2022-03-30T10:47:37.9714643Z",
              "session_id": 23,
              "session_start_time": null,
              "spark_pool": "spark2",
              "state": "finished",
              "statement_id": 45
            },
            "text/plain": [
              "StatementMeta(spark2, 23, 45, Finished, Available)"
            ]
          },
          "metadata": {},
          "output_type": "display_data"
        }
      ],
      "source": [
        "from notebookutils import mssparkutils\n",
        "\n",
        "data_lake_account_name = '' # Synapse Workspace ADLS\n",
        "file_system_name = '' # Synapse Workspace ADLS container\n",
        "\n",
        "keyvault_name = '' # Key Vault Name\n",
        "\n",
        "query = '' #change this to your query string\n",
        "topic = '' #change this to your topic"
      ]
    },
    {
      "cell_type": "code",
      "execution_count": null,
      "metadata": {
        "collapsed": false,
        "jupyter": {
          "outputs_hidden": false,
          "source_hidden": false
        },
        "nteract": {
          "transient": {
            "deleting": false
          }
        }
      },
      "outputs": [],
      "source": [
        "base_path = f\"abfss://{file_system_name}@{data_lake_account_name}.dfs.core.windows.net/\"\n",
        "\n",
        "df = spark.read.load(base_path + 'CountryCoordinates/CountryCordinates.csv', format='csv', header=True)\n",
        "df.write.mode(\"overwrite\").saveAsTable(\"country_coordinates\")\n",
        "# display(df.take(10))"
      ]
    },
    {
      "cell_type": "code",
      "execution_count": null,
      "metadata": {
        "jupyter": {
          "outputs_hidden": false,
          "source_hidden": false
        },
        "nteract": {
          "transient": {
            "deleting": false
          }
        }
      },
      "outputs": [],
      "source": [
        "mssparkutils.notebook.run(\"/Ingest_Process_News\", 1800, \\\n",
        "{\"data_lake_account_name\": data_lake_account_name, \"file_system_name\": file_system_name, \"keyvault_name\": keyvault_name, \"query\": query, \"topic\": topic})"
      ]
    },
    {
      "cell_type": "code",
      "execution_count": null,
      "metadata": {
        "jupyter": {
          "outputs_hidden": false,
          "source_hidden": false
        },
        "nteract": {
          "transient": {
            "deleting": false
          }
        }
      },
      "outputs": [],
      "source": [
        "mssparkutils.notebook.run(\"/Ingest_Process_Tweets\", 1800, \\\n",
        " {\"data_lake_account_name\": data_lake_account_name, \"file_system_name\": file_system_name,\"keyvault_name\": keyvault_name, \"query\": query, \"topic\": topic})"
      ]
    },
    {
      "cell_type": "code",
      "execution_count": null,
      "metadata": {
        "jupyter": {
          "outputs_hidden": false,
          "source_hidden": false
        },
        "nteract": {
          "transient": {
            "deleting": false
          }
        }
      },
      "outputs": [],
      "source": [
        "#Code snippets to clean up duplicates if Power BI refresh shows any errors\n",
        "\n",
        "# df_articles = spark.sql('select * from articles_data')\n",
        "# df_articles = df_articles.dropDuplicates(['id'])\n",
        "# df_articles.write.mode(\"overwrite\").saveAsTable(\"articles_data_temp\")\n",
        "\n",
        "# df_articles = spark.sql('select * from articles_data_temp')\n",
        "# df_articles = df_articles.dropDuplicates(['id'])\n",
        "# df_articles.write.mode(\"overwrite\").saveAsTable(\"articles_data\")"
      ]
    },
    {
      "cell_type": "code",
      "execution_count": null,
      "metadata": {
        "jupyter": {
          "outputs_hidden": false,
          "source_hidden": false
        },
        "nteract": {
          "transient": {
            "deleting": false
          }
        }
      },
      "outputs": [],
      "source": [
        "# df = spark.sql('select * from tweets_sentiments')\n",
        "# df = df.dropDuplicates(['id'])\n",
        "# df.write.mode(\"overwrite\").saveAsTable(\"tweets_sentiments_temp\")\n",
        "\n",
        "\n",
        "# df = spark.sql('select * from tweets_sentiments_temp')\n",
        "# df = df.dropDuplicates(['id'])\n",
        "# df.write.mode(\"overwrite\").saveAsTable(\"tweets_sentiments\")"
      ]
    }
  ],
  "metadata": {
    "description": null,
    "kernelspec": {
      "display_name": "Synapse PySpark",
      "name": "synapse_pyspark"
    },
    "language_info": {
      "name": "python"
    },
    "save_output": true,
    "synapse_widget": {
      "state": {},
      "version": "0.1"
    }
  },
  "nbformat": 4,
  "nbformat_minor": 2
}
